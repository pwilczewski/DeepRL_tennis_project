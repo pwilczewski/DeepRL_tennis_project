{
 "cells": [
  {
   "cell_type": "markdown",
   "metadata": {},
   "source": [
    "# Collaboration and Competition Solution\n",
    "\n",
    "---\n",
    "\n",
    "This notebook contains my solution to the third project of the [Deep Reinforcement Learning Nanodegree](https://www.udacity.com/course/deep-reinforcement-learning-nanodegree--nd893) program.\n",
    "\n",
    "### 1. Start the Environment\n",
    "\n",
    "Begin by importing the necessary packages and starting the tennis environment."
   ]
  },
  {
   "cell_type": "code",
   "execution_count": 1,
   "metadata": {
    "scrolled": true
   },
   "outputs": [
    {
     "name": "stderr",
     "output_type": "stream",
     "text": [
      "INFO:unityagents:\n",
      "'Academy' started successfully!\n",
      "Unity Academy name: Academy\n",
      "        Number of Brains: 1\n",
      "        Number of External Brains : 1\n",
      "        Lesson number : 0\n",
      "        Reset Parameters :\n",
      "\t\t\n",
      "Unity brain name: TennisBrain\n",
      "        Number of Visual Observations (per agent): 0\n",
      "        Vector Observation space type: continuous\n",
      "        Vector Observation space size (per agent): 8\n",
      "        Number of stacked Vector Observation: 3\n",
      "        Vector Action space type: continuous\n",
      "        Vector Action space size (per agent): 2\n",
      "        Vector Action descriptions: , \n"
     ]
    }
   ],
   "source": [
    "from unityagents import UnityEnvironment\n",
    "import numpy as np\n",
    "from collections import namedtuple, deque\n",
    "import matplotlib.pyplot as plt\n",
    "import random\n",
    "import copy\n",
    "\n",
    "import torch\n",
    "import torch.nn as nn\n",
    "import torch.nn.functional as F\n",
    "import torch.optim as optim\n",
    "\n",
    "from collections import namedtuple, deque\n",
    "from udacity_model import Actor, Critic\n",
    "from udacity_replay_buffer import ReplayBuffer, ActionNoise\n",
    "from udacity_agent import Agent\n",
    "\n",
    "device = torch.device(\"cuda:0\" if torch.cuda.is_available() else \"cpu\")\n",
    "\n",
    "env = UnityEnvironment(file_name=\"Tennis_Windows_x86_64/Tennis.exe\")\n",
    "\n",
    "# get the default brain\n",
    "brain_name = env.brain_names[0]\n",
    "brain = env.brains[brain_name]\n",
    "\n",
    "# reset the environment\n",
    "env_info = env.reset(train_mode=True)[brain_name]\n",
    "num_agents = len(env_info.agents)\n",
    "action_size = brain.vector_action_space_size\n",
    "observations = env_info.vector_observations\n",
    "observation_size = observations.shape[1]"
   ]
  },
  {
   "cell_type": "markdown",
   "metadata": {},
   "source": [
    "### 2. Train the Agent\n",
    "\n",
    "The play_tennis() fuction trains one agent with two actors to act in the environment using MADDPG."
   ]
  },
  {
   "cell_type": "code",
   "execution_count": 2,
   "metadata": {
    "scrolled": true
   },
   "outputs": [
    {
     "name": "stdout",
     "output_type": "stream",
     "text": [
      "Episode 100\tAverage Score: 0.021\n",
      "Episode 200\tAverage Score: 0.015\n",
      "Episode 300\tAverage Score: 0.010\n",
      "Episode 400\tAverage Score: 0.007\n",
      "Episode 500\tAverage Score: 0.005\n",
      "Episode 600\tAverage Score: 0.003\n",
      "Episode 700\tAverage Score: 0.001\n",
      "Episode 800\tAverage Score: 0.000\n",
      "Episode 900\tAverage Score: 0.002\n",
      "Episode 1000\tAverage Score: 0.002\n",
      "Episode 1100\tAverage Score: 0.000\n",
      "Episode 1200\tAverage Score: 0.005\n",
      "Episode 1300\tAverage Score: 0.013\n",
      "Episode 1400\tAverage Score: 0.021\n",
      "Episode 1500\tAverage Score: 0.016\n",
      "Episode 1600\tAverage Score: 0.037\n",
      "Episode 1700\tAverage Score: 0.049\n",
      "Episode 1800\tAverage Score: 0.046\n",
      "Episode 1900\tAverage Score: 0.052\n",
      "Episode 2000\tAverage Score: 0.055\n",
      "Episode 2100\tAverage Score: 0.048\n",
      "Episode 2200\tAverage Score: 0.054\n",
      "Episode 2300\tAverage Score: 0.047\n",
      "Episode 2400\tAverage Score: 0.039\n",
      "Episode 2500\tAverage Score: 0.043\n",
      "Episode 2600\tAverage Score: 0.047\n",
      "Episode 2700\tAverage Score: 0.047\n",
      "Episode 2800\tAverage Score: 0.045\n",
      "Episode 2900\tAverage Score: 0.045\n",
      "Episode 3000\tAverage Score: 0.054\n",
      "Episode 3100\tAverage Score: 0.105\n",
      "Episode 3200\tAverage Score: 0.127\n",
      "Episode 3300\tAverage Score: 0.114\n",
      "Episode 3400\tAverage Score: 0.157\n",
      "Episode 3500\tAverage Score: 0.160\n",
      "Episode 3600\tAverage Score: 0.158\n",
      "Episode 3700\tAverage Score: 0.206\n",
      "Episode 3800\tAverage Score: 0.188\n",
      "Episode 3900\tAverage Score: 0.180\n",
      "Episode 4000\tAverage Score: 0.167\n",
      "Episode 4100\tAverage Score: 0.211\n",
      "Episode 4200\tAverage Score: 0.248\n",
      "Episode 4275\tAverage Score: 0.500\n",
      "Environment solved in 4175 episodes!\tAverage Score: 0.500\n"
     ]
    }
   ],
   "source": [
    "agent = Agent(num_agents, observation_size, action_size, 7654321)\n",
    "\n",
    "def play_tennis(n_episodes=5000, print_every=100, EPS=1.0, eps_decay=0.9985, eps_floor=0.05):\n",
    "    \n",
    "    # Keep track of scores over episodes\n",
    "    scores_window = deque(maxlen=print_every)\n",
    "    training_scores = []\n",
    "    \n",
    "    for i_episode in range(1, n_episodes+1):\n",
    "        \n",
    "        # Gen environment info\n",
    "        env_info = env.reset(train_mode=True)[brain_name]\n",
    "        observations = env_info.vector_observations\n",
    "        \n",
    "        # Keep track of score within episode\n",
    "        episode_scores = np.zeros(num_agents)\n",
    "        \n",
    "        while True:\n",
    "            \n",
    "            # Act, step through env and record states\n",
    "            actions = agent.act(observations, EPS)\n",
    "            env_info = env.step(actions)[brain_name]\n",
    "            next_observations = env_info.vector_observations\n",
    "            \n",
    "            rewards = env_info.rewards\n",
    "            dones = env_info.local_done\n",
    "            \n",
    "            # Agent steps and trains\n",
    "            agent.step(observations, actions, rewards, next_observations, dones)\n",
    "            \n",
    "            # Update state, accumulate reward, break if done\n",
    "            observations = next_observations\n",
    "            episode_scores += rewards\n",
    "            if np.any(dones):\n",
    "                break\n",
    "        \n",
    "        # Add scores to lists\n",
    "        scores_window.append(max(episode_scores))\n",
    "        training_scores.append(max(episode_scores))\n",
    "        \n",
    "        # Update epsilon\n",
    "        EPS = max(EPS*eps_decay,eps_floor)\n",
    "        \n",
    "        print('\\rEpisode {}\\tAverage Score: {:.3f}'.format(i_episode, np.mean(scores_window)), end=\"\")\n",
    "        if i_episode % 100 == 0:\n",
    "            print('\\rEpisode {}\\tAverage Score: {:.3f}'.format(i_episode, np.mean(scores_window)))\n",
    "            \n",
    "        if np.mean(scores_window)>=0.5:\n",
    "            print('\\nEnvironment solved in {:d} episodes!\\tAverage Score: {:.3f}'.format(i_episode-100, np.mean(scores_window)))\n",
    "            break\n",
    "        \n",
    "    return training_scores\n",
    "\n",
    "scores = play_tennis()\n",
    "env.close()"
   ]
  },
  {
   "cell_type": "code",
   "execution_count": 4,
   "metadata": {},
   "outputs": [],
   "source": [
    "# Save the successful model weights\n",
    "torch.save(agent.actors_local[0].state_dict(), 'actor0_local.pth')\n",
    "torch.save(agent.critics_local[0].state_dict(), 'critic0_local.pth')\n",
    "torch.save(agent.actors_local[1].state_dict(), 'actor1_local.pth')\n",
    "torch.save(agent.critics_local[1].state_dict(), 'critic1_local.pth')"
   ]
  },
  {
   "cell_type": "code",
   "execution_count": 5,
   "metadata": {},
   "outputs": [
    {
     "data": {
      "image/png": "[encoded data removed]",
      "text/plain": [
       "<Figure size 432x288 with 1 Axes>"
      ]
     },
     "metadata": {
      "needs_background": "light"
     },
     "output_type": "display_data"
    }
   ],
   "source": [
    "fig = plt.figure()\n",
    "ax = fig.add_subplot(111)\n",
    "plt.plot(np.arange(1, len(scores)+1), scores)\n",
    "plt.ylabel('Score')\n",
    "plt.xlabel('Episode #')\n",
    "plt.show()"
   ]
  },
  {
   "cell_type": "code",
   "execution_count": null,
   "metadata": {},
   "outputs": [],
   "source": []
  }
 ],
 "metadata": {
  "kernelspec": {
   "display_name": "drlnd",
   "language": "python",
   "name": "drlnd"
  },
  "language_info": {
   "codemirror_mode": {
    "name": "ipython",
    "version": 3
   },
   "file_extension": ".py",
   "mimetype": "text/x-python",
   "name": "python",
   "nbconvert_exporter": "python",
   "pygments_lexer": "ipython3",
   "version": "3.6.12"
  }
 },
 "nbformat": 4,
 "nbformat_minor": 2
}
